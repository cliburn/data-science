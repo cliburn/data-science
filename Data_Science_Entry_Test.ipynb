{
 "cells": [
  {
   "cell_type": "markdown",
   "metadata": {},
   "source": [
    "# Data Science entry test (100 points total)"
   ]
  },
  {
   "cell_type": "markdown",
   "metadata": {},
   "source": [
    "**1**. Write a Unix statement to assign the string \"Hello\" to the variabel `foo` and another statement to display `foo` on standard output (5 points)"
   ]
  },
  {
   "cell_type": "code",
   "execution_count": null,
   "metadata": {
    "collapsed": true
   },
   "outputs": [],
   "source": []
  },
  {
   "cell_type": "markdown",
   "metadata": {},
   "source": [
    "**2**. Write a Unix command to finds all files containing the word \"foo\" recursively within the current directory (5 points)"
   ]
  },
  {
   "cell_type": "code",
   "execution_count": null,
   "metadata": {
    "collapsed": true
   },
   "outputs": [],
   "source": []
  },
  {
   "cell_type": "markdown",
   "metadata": {},
   "source": [
    "**3**. What command(s) would you give to make the directories `a/b/c` with `a` in the **parent** directory? (5 points)"
   ]
  },
  {
   "cell_type": "code",
   "execution_count": null,
   "metadata": {
    "collapsed": true
   },
   "outputs": [],
   "source": []
  },
  {
   "cell_type": "markdown",
   "metadata": {},
   "source": [
    "**4**. Which a regular expression that matches `abc-123-XYZ` **and** `uvwxyz-6789-ABCDEFG` but not `abc-67.28-XYZ` or `ABC-123-XYZ` or `abc-123-` (5 points)"
   ]
  },
  {
   "cell_type": "code",
   "execution_count": null,
   "metadata": {
    "collapsed": true
   },
   "outputs": [],
   "source": []
  },
  {
   "cell_type": "markdown",
   "metadata": {},
   "source": [
    "**5**. Write a Unix command to download the file\n",
    "\n",
    "https://raw.github.com/vincentarelbundock/Rdatasets/master/csv/datasets/BOD.csv \n",
    "\n",
    "without using a browser. Show the first 3 lines of the file. (5 points)"
   ]
  },
  {
   "cell_type": "code",
   "execution_count": null,
   "metadata": {
    "collapsed": true
   },
   "outputs": [],
   "source": []
  },
  {
   "cell_type": "markdown",
   "metadata": {},
   "source": [
    "**6**. Order the following complexities from smallest to largest: (5 points)\n",
    "\n",
    "> $O(n^2), O(2^n), O(n \\log n), O(n!), O(n)$"
   ]
  },
  {
   "cell_type": "code",
   "execution_count": null,
   "metadata": {
    "collapsed": true
   },
   "outputs": [],
   "source": []
  },
  {
   "cell_type": "markdown",
   "metadata": {},
   "source": [
    "**7**. Write a function to find the sum of a collection of $n$ numbers using **recursion**. Any language that supports recursion can be used in your answer (name the language used). Explain if your solution can benefit from **tail-call optimization**, and whether the language used supports this compiler optimization. You may use pseudocode if this cannot be easily done in a language that you are familiar with. Show that the function gives the correct sum for the collection (3,1,2,4). (10 points)"
   ]
  },
  {
   "cell_type": "code",
   "execution_count": null,
   "metadata": {
    "collapsed": true
   },
   "outputs": [],
   "source": [
    "     "
   ]
  },
  {
   "cell_type": "markdown",
   "metadata": {},
   "source": [
    "**8**. A hash table consists of a set of numbered buckets and a hash function that maps an item to a bucket (by generating a number). For example, if `hash(\"hello\")` returns 3, then the string \"hello\" would be \"stored\" in bucket 3. Write a hash function that is capable of mapping any word to one of 8 buckets in any language (name the language used). Find the bucket number each word in the sentence \"the quick brown fox jumps over the lazy dog\" hashes to. You may use pseudocode if this cannot be easily done in a language that you are familiar with. (5 points)"
   ]
  },
  {
   "cell_type": "code",
   "execution_count": null,
   "metadata": {
    "collapsed": true
   },
   "outputs": [],
   "source": []
  },
  {
   "cell_type": "markdown",
   "metadata": {},
   "source": [
    "**9**. For each of the following properties, name an appropriate data structure (5 points)\n",
    "\n",
    "- First-In-First-Out (FIFO) semantics\n",
    "- Last-In-First-Out (LIFO) semantics\n",
    "- Maintains sort order\n",
    "- Random access takes constant time (or amortized constant time)\n",
    "- Keeps only unique entires (no duplicates)"
   ]
  },
  {
   "cell_type": "code",
   "execution_count": null,
   "metadata": {
    "collapsed": true
   },
   "outputs": [],
   "source": []
  },
  {
   "cell_type": "markdown",
   "metadata": {},
   "source": [
    "**10**. Give a one sentence description of each of the following: (5 points)\n",
    "\n",
    "- `git`\n",
    "- `docker`\n",
    "- `make`\n",
    "- `literate programming`\n",
    "- `unit test`"
   ]
  },
  {
   "cell_type": "code",
   "execution_count": null,
   "metadata": {
    "collapsed": true
   },
   "outputs": [],
   "source": []
  },
  {
   "cell_type": "markdown",
   "metadata": {},
   "source": [
    "**11**. Give an example of a language that matches each term (5 points)\n",
    "\n",
    "- Domain-specific\n",
    "- Functional\n",
    "- Object-oriented\n",
    "- Interpreted\n",
    "- Static typing"
   ]
  },
  {
   "cell_type": "code",
   "execution_count": null,
   "metadata": {
    "collapsed": true
   },
   "outputs": [],
   "source": []
  },
  {
   "cell_type": "markdown",
   "metadata": {},
   "source": [
    "**12**. Express the decimal number 3.125 as a binary number. Show the steps taken (5 points)"
   ]
  },
  {
   "cell_type": "code",
   "execution_count": null,
   "metadata": {
    "collapsed": true
   },
   "outputs": [],
   "source": []
  },
  {
   "cell_type": "markdown",
   "metadata": {},
   "source": [
    "**13**. When multiplying many (non-zero) probabilities, it is advisable to first perform a log transform. Explain why. (5 points)"
   ]
  },
  {
   "cell_type": "code",
   "execution_count": null,
   "metadata": {
    "collapsed": true
   },
   "outputs": [],
   "source": []
  },
  {
   "cell_type": "markdown",
   "metadata": {},
   "source": [
    "**14**. Write a program that prints the numbers from 1 to 100. But for multiples of three print “Data” instead of the number and for the multiples of five print “Science”. For numbers which are multiples of both three and five print “Data Science”. (Name the language used) (10 points)"
   ]
  },
  {
   "cell_type": "code",
   "execution_count": null,
   "metadata": {
    "collapsed": true
   },
   "outputs": [],
   "source": []
  },
  {
   "cell_type": "markdown",
   "metadata": {},
   "source": [
    "**15**. Implement the following algorithm (pseudocode assumes a language with 0-based arrays) and use it to sort the numbers `3,1,4,5,2` in ascending order. What is the Big O complexity of this sorting algorithm? (10 points)\n",
    "\n",
    "```\n",
    "procedure my_sort( A : list of sortable items )\n",
    "   n = length(A)\n",
    "   repeat\n",
    "     swapped = false\n",
    "     for i = 1 to n-1 inclusive do\n",
    "       /* if this pair is out of order */\n",
    "       if A[i-1] > A[i] then\n",
    "         /* swap them and remember something changed */\n",
    "         swap( A[i-1], A[i] )\n",
    "         swapped = true\n",
    "       end if\n",
    "     end for\n",
    "   until not swapped\n",
    "end procedure\n",
    "```"
   ]
  },
  {
   "cell_type": "code",
   "execution_count": null,
   "metadata": {
    "collapsed": true
   },
   "outputs": [],
   "source": []
  },
  {
   "cell_type": "markdown",
   "metadata": {},
   "source": [
    "**16**. Suppose the population of Durham is 100,000 and the population of Chapel Hill is 200,000. Every year, 10% of the people in Durham move to Chapel Hill, and 90% stay in Durham; 20% of the people in Chapel Hill move to Durham and 80% stay in Chapel Hill. Assuming no births, deaths or immigration/emigration, what is the population of Durham after many, many years? (10 points)"
   ]
  },
  {
   "cell_type": "code",
   "execution_count": null,
   "metadata": {
    "collapsed": true
   },
   "outputs": [],
   "source": []
  }
 ],
 "metadata": {
  "kernelspec": {
   "display_name": "Python 3",
   "language": "python",
   "name": "python3"
  },
  "language_info": {
   "codemirror_mode": {
    "name": "ipython",
    "version": 3
   },
   "file_extension": ".py",
   "mimetype": "text/x-python",
   "name": "python",
   "nbconvert_exporter": "python",
   "pygments_lexer": "ipython3",
   "version": "3.6.1"
  }
 },
 "nbformat": 4,
 "nbformat_minor": 2
}
